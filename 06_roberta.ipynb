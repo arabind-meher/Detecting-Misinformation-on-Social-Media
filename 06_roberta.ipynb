{
  "cells": [
    {
      "cell_type": "markdown",
      "id": "EAuqg_dTtSPb",
      "metadata": {
        "id": "EAuqg_dTtSPb"
      },
      "source": [
        "# RoBERTa"
      ]
    },
    {
      "cell_type": "code",
      "execution_count": 2,
      "id": "062f3733",
      "metadata": {
        "id": "062f3733"
      },
      "outputs": [],
      "source": [
        "import pandas as pd\n",
        "import numpy as np\n",
        "import matplotlib.pyplot as plt\n",
        "import seaborn as sns\n",
        "import torch\n",
        "from torch.utils.data import Dataset\n",
        "from transformers import RobertaTokenizer, RobertaModel, RobertaConfig\n",
        "from transformers import RobertaForSequenceClassification, Trainer, TrainingArguments, DataCollatorWithPadding\n",
        "from sklearn.preprocessing import LabelEncoder, StandardScaler\n",
        "from sklearn.metrics import accuracy_score, precision_recall_fscore_support\n",
        "from sklearn.metrics import confusion_matrix, classification_report\n",
        "import torch.nn as nn"
      ]
    },
    {
      "cell_type": "code",
      "execution_count": 3,
      "id": "b5a0ebd6",
      "metadata": {
        "colab": {
          "base_uri": "https://localhost:8080/"
        },
        "id": "b5a0ebd6",
        "outputId": "64e3377c-74ef-4bed-a3ae-24ee39e1a6a9"
      },
      "outputs": [
        {
          "data": {
            "text/plain": [
              "<torch._C.Generator at 0x7aabed02fed0>"
            ]
          },
          "execution_count": 3,
          "metadata": {},
          "output_type": "execute_result"
        }
      ],
      "source": [
        "# === Set random seed ===\n",
        "np.random.seed(691)\n",
        "torch.manual_seed(691)"
      ]
    },
    {
      "cell_type": "code",
      "execution_count": 4,
      "id": "11e8a1aa",
      "metadata": {
        "id": "11e8a1aa"
      },
      "outputs": [],
      "source": [
        "# === Load data ===\n",
        "train_df = pd.read_csv(\"data/train.csv\")\n",
        "val_df = pd.read_csv(\"data/validation.csv\")\n",
        "test_df = pd.read_csv(\"data/test.csv\")\n",
        "\n",
        "target_col = 'label_id'\n",
        "num_classes = train_df[target_col].nunique()"
      ]
    },
    {
      "cell_type": "code",
      "execution_count": 5,
      "id": "38f9f5c6",
      "metadata": {
        "id": "38f9f5c6"
      },
      "outputs": [],
      "source": [
        "# === Define feature columns ===\n",
        "categorical_cols = ['subject', 'speaker', 'party_affiliation', 'context']\n",
        "numeric_cols = ['subject_count', 'readability_score', 'num_named_entities',\n",
        "                'entity_types_present', 'has_citation_words',\n",
        "                'polarity_shift_words_count', 'uncertainty_words_count',\n",
        "                'negation_words_count', 'tfidf_score_sum', 'sentiment_score']"
      ]
    },
    {
      "cell_type": "code",
      "execution_count": 6,
      "id": "27614797",
      "metadata": {
        "id": "27614797"
      },
      "outputs": [],
      "source": [
        "# === Label encoders for categorical features ===\n",
        "cat_encoders = {}\n",
        "num_categorical_feats_list = []\n",
        "for col in categorical_cols:\n",
        "    le = LabelEncoder()\n",
        "    le.fit(pd.concat([train_df[col], val_df[col], test_df[col]]).astype(str))\n",
        "    cat_encoders[col] = le\n",
        "    num_categorical_feats_list.append(len(le.classes_))"
      ]
    },
    {
      "cell_type": "code",
      "execution_count": 7,
      "id": "52d99fa1",
      "metadata": {
        "id": "52d99fa1"
      },
      "outputs": [],
      "source": [
        "# === Scale numeric features ===\n",
        "scaler = StandardScaler()\n",
        "scaler.fit(train_df[numeric_cols])\n",
        "train_df[numeric_cols] = scaler.transform(train_df[numeric_cols])\n",
        "val_df[numeric_cols] = scaler.transform(val_df[numeric_cols])\n",
        "test_df[numeric_cols] = scaler.transform(test_df[numeric_cols])"
      ]
    },
    {
      "cell_type": "code",
      "execution_count": 8,
      "id": "55ef9da8",
      "metadata": {
        "colab": {
          "base_uri": "https://localhost:8080/"
        },
        "id": "55ef9da8",
        "outputId": "32933273-6884-4f77-838d-92621c0fc68b"
      },
      "outputs": [
        {
          "name": "stderr",
          "output_type": "stream",
          "text": [
            "/usr/local/lib/python3.11/dist-packages/huggingface_hub/utils/_auth.py:94: UserWarning: \n",
            "The secret `HF_TOKEN` does not exist in your Colab secrets.\n",
            "To authenticate with the Hugging Face Hub, create a token in your settings tab (https://huggingface.co/settings/tokens), set it as secret in your Google Colab and restart your session.\n",
            "You will be able to reuse this secret in all of your notebooks.\n",
            "Please note that authentication is recommended but still optional to access public models or datasets.\n",
            "  warnings.warn(\n"
          ]
        }
      ],
      "source": [
        "# === Tokenizer ===\n",
        "tokenizer = RobertaTokenizer.from_pretrained('roberta-base')"
      ]
    },
    {
      "cell_type": "code",
      "execution_count": 9,
      "id": "87412da9",
      "metadata": {
        "id": "87412da9"
      },
      "outputs": [],
      "source": [
        "# === Hybrid Dataset ===\n",
        "class HybridRoBERTaDataset(Dataset):\n",
        "    def __init__(self, df, tokenizer, cat_encoders, numeric_cols, max_len=128):\n",
        "        self.texts = df['statement'].astype(str).tolist()\n",
        "        self.labels = df[target_col].tolist()\n",
        "        self.tokenizer = tokenizer\n",
        "        self.max_len = max_len\n",
        "\n",
        "        # Categorical features\n",
        "        self.categorical_feats = []\n",
        "        for col, encoder in cat_encoders.items():\n",
        "            encoded_col = encoder.transform(df[col].astype(str))\n",
        "            self.categorical_feats.append(torch.tensor(encoded_col, dtype=torch.long))\n",
        "        self.categorical_feats = torch.stack(self.categorical_feats, dim=1)\n",
        "\n",
        "        # Numeric features\n",
        "        self.numeric_feats = torch.tensor(df[numeric_cols].values, dtype=torch.float32)\n",
        "\n",
        "    def __len__(self):\n",
        "        return len(self.labels)\n",
        "\n",
        "    def __getitem__(self, idx):\n",
        "        text = self.texts[idx]\n",
        "        label = self.labels[idx]\n",
        "\n",
        "        encoding = self.tokenizer(\n",
        "            text,\n",
        "            add_special_tokens=True,\n",
        "            max_length=self.max_len,\n",
        "            padding='max_length',\n",
        "            truncation=True,\n",
        "            return_tensors='pt'\n",
        "        )\n",
        "\n",
        "        item = {key: val.squeeze(0) for key, val in encoding.items()}\n",
        "        item['categorical_feats'] = self.categorical_feats[idx]\n",
        "        item['numeric_feats'] = self.numeric_feats[idx]\n",
        "        item['labels'] = torch.tensor(label, dtype=torch.long)\n",
        "\n",
        "        return item"
      ]
    },
    {
      "cell_type": "code",
      "execution_count": 10,
      "id": "9c216f9d",
      "metadata": {
        "id": "9c216f9d"
      },
      "outputs": [],
      "source": [
        "# === Datasets ===\n",
        "train_ds = HybridRoBERTaDataset(train_df, tokenizer, cat_encoders, numeric_cols)\n",
        "val_ds = HybridRoBERTaDataset(val_df, tokenizer, cat_encoders, numeric_cols)\n",
        "test_ds = HybridRoBERTaDataset(test_df, tokenizer, cat_encoders, numeric_cols)"
      ]
    },
    {
      "cell_type": "code",
      "execution_count": 11,
      "id": "e026f9a0",
      "metadata": {
        "id": "e026f9a0"
      },
      "outputs": [],
      "source": [
        "# === Data collator ===\n",
        "data_collator = DataCollatorWithPadding(tokenizer=tokenizer)"
      ]
    },
    {
      "cell_type": "code",
      "execution_count": 12,
      "id": "864f0109",
      "metadata": {
        "id": "864f0109"
      },
      "outputs": [],
      "source": [
        "# === Hybrid RoBERTa + Features model ===\n",
        "class HybridRoBERTaClassifier(nn.Module):\n",
        "    def __init__(self, num_categorical_feats_list, num_numeric_feats, num_classes, cat_embed_dim=16, roberta_model_name='roberta-base'):\n",
        "        super().__init__()\n",
        "\n",
        "        # RoBERTa backbone\n",
        "        self.roberta = RobertaModel.from_pretrained(roberta_model_name)\n",
        "\n",
        "        # Categorical embeddings\n",
        "        self.cat_embeddings = nn.ModuleList([\n",
        "            nn.Embedding(cat_size, cat_embed_dim) for cat_size in num_categorical_feats_list\n",
        "        ])\n",
        "\n",
        "        # Final FC layer\n",
        "        roberta_hidden_dim = self.roberta.config.hidden_size\n",
        "        total_input_dim = roberta_hidden_dim + num_numeric_feats + len(num_categorical_feats_list) * cat_embed_dim\n",
        "\n",
        "        self.fc = nn.Sequential(\n",
        "            nn.Linear(total_input_dim, 256),\n",
        "            nn.ReLU(),\n",
        "            nn.Dropout(0.3),\n",
        "            nn.Linear(256, num_classes)\n",
        "        )\n",
        "\n",
        "    def forward(self, input_ids, attention_mask, categorical_feats, numeric_feats, labels=None):\n",
        "        # RoBERTa CLS token\n",
        "        outputs = self.roberta(input_ids=input_ids, attention_mask=attention_mask)\n",
        "        cls_output = outputs.last_hidden_state[:, 0, :]  # CLS token\n",
        "\n",
        "        # Categorical embeddings\n",
        "        cat_embeds = []\n",
        "        for i, embedding_layer in enumerate(self.cat_embeddings):\n",
        "            cat_embed = embedding_layer(categorical_feats[:, i])\n",
        "            cat_embeds.append(cat_embed)\n",
        "        cat_embeds = torch.cat(cat_embeds, dim=1)\n",
        "\n",
        "        # Combine features\n",
        "        combined = torch.cat([cls_output, numeric_feats, cat_embeds], dim=1)\n",
        "\n",
        "        logits = self.fc(combined)\n",
        "\n",
        "        # Optional: compute loss if labels provided\n",
        "        loss = None\n",
        "        if labels is not None:\n",
        "            # loss_fct = nn.CrossEntropyLoss(weight=class_weights_tensor.to(logits.device))\n",
        "            loss_fct = nn.CrossEntropyLoss()\n",
        "            loss = loss_fct(logits.view(-1, num_classes), labels.view(-1))\n",
        "\n",
        "        return {'loss': loss, 'logits': logits}"
      ]
    },
    {
      "cell_type": "code",
      "execution_count": 13,
      "id": "d4c5ed09",
      "metadata": {
        "colab": {
          "base_uri": "https://localhost:8080/"
        },
        "id": "d4c5ed09",
        "outputId": "3407f0c6-25b6-4cc2-c7a7-67ac93cbb621"
      },
      "outputs": [
        {
          "name": "stderr",
          "output_type": "stream",
          "text": [
            "Some weights of RobertaModel were not initialized from the model checkpoint at roberta-base and are newly initialized: ['pooler.dense.bias', 'pooler.dense.weight']\n",
            "You should probably TRAIN this model on a down-stream task to be able to use it for predictions and inference.\n"
          ]
        }
      ],
      "source": [
        "# === Instantiate model ===\n",
        "model = HybridRoBERTaClassifier(\n",
        "    num_categorical_feats_list=num_categorical_feats_list,\n",
        "    num_numeric_feats=len(numeric_cols),\n",
        "    num_classes=num_classes\n",
        ")"
      ]
    },
    {
      "cell_type": "code",
      "execution_count": 14,
      "id": "5fcacf98",
      "metadata": {
        "id": "5fcacf98"
      },
      "outputs": [],
      "source": [
        "# === Compute metrics ===\n",
        "def compute_metrics(eval_pred):\n",
        "    logits, labels = eval_pred\n",
        "    preds = np.argmax(logits, axis=1)\n",
        "\n",
        "    acc = accuracy_score(labels, preds)\n",
        "    precision, recall, f1, _ = precision_recall_fscore_support(labels, preds, average='weighted')\n",
        "\n",
        "    return {\n",
        "        'accuracy': acc,\n",
        "        'f1': f1,\n",
        "        'precision': precision,\n",
        "        'recall': recall\n",
        "    }"
      ]
    },
    {
      "cell_type": "code",
      "execution_count": 15,
      "id": "a7b1ca83",
      "metadata": {
        "id": "a7b1ca83"
      },
      "outputs": [],
      "source": [
        "# === TrainingArguments ===\n",
        "training_args = TrainingArguments(\n",
        "    output_dir=\"./roberta_hybrid_model\",\n",
        "    eval_strategy=\"epoch\",\n",
        "    save_strategy=\"epoch\",\n",
        "    learning_rate=2e-5,\n",
        "    per_device_train_batch_size=16,\n",
        "    per_device_eval_batch_size=32,\n",
        "    num_train_epochs=10,\n",
        "    weight_decay=0.01,\n",
        "    load_best_model_at_end=True,\n",
        "    logging_dir=\"./logs\",\n",
        "    report_to=\"none\",\n",
        "    save_total_limit=1\n",
        ")"
      ]
    },
    {
      "cell_type": "code",
      "execution_count": 16,
      "id": "4a7f780f",
      "metadata": {
        "id": "4a7f780f"
      },
      "outputs": [],
      "source": [
        "# === Custom Trainer ===\n",
        "from transformers import Trainer\n",
        "\n",
        "trainer = Trainer(\n",
        "    model=model,\n",
        "    args=training_args,\n",
        "    train_dataset=train_ds,\n",
        "    eval_dataset=val_ds,\n",
        "    processing_class=tokenizer,\n",
        "    data_collator=data_collator,\n",
        "    compute_metrics=compute_metrics\n",
        ")"
      ]
    },
    {
      "cell_type": "code",
      "execution_count": 17,
      "id": "f756aa73",
      "metadata": {
        "colab": {
          "base_uri": "https://localhost:8080/",
          "height": 478
        },
        "id": "f756aa73",
        "outputId": "5f93e7f7-58f4-4529-e143-b8cb77310916"
      },
      "outputs": [
        {
          "data": {
            "text/html": [
              "\n",
              "    <div>\n",
              "      \n",
              "      <progress value='6400' max='6400' style='width:300px; height:20px; vertical-align: middle;'></progress>\n",
              "      [6400/6400 46:01, Epoch 10/10]\n",
              "    </div>\n",
              "    <table border=\"1\" class=\"dataframe\">\n",
              "  <thead>\n",
              " <tr style=\"text-align: left;\">\n",
              "      <th>Epoch</th>\n",
              "      <th>Training Loss</th>\n",
              "      <th>Validation Loss</th>\n",
              "      <th>Accuracy</th>\n",
              "      <th>F1</th>\n",
              "      <th>Precision</th>\n",
              "      <th>Recall</th>\n",
              "    </tr>\n",
              "  </thead>\n",
              "  <tbody>\n",
              "    <tr>\n",
              "      <td>1</td>\n",
              "      <td>1.751300</td>\n",
              "      <td>1.756058</td>\n",
              "      <td>0.256231</td>\n",
              "      <td>0.194553</td>\n",
              "      <td>0.201001</td>\n",
              "      <td>0.256231</td>\n",
              "    </tr>\n",
              "    <tr>\n",
              "      <td>2</td>\n",
              "      <td>1.705500</td>\n",
              "      <td>1.686963</td>\n",
              "      <td>0.269470</td>\n",
              "      <td>0.238199</td>\n",
              "      <td>0.280677</td>\n",
              "      <td>0.269470</td>\n",
              "    </tr>\n",
              "    <tr>\n",
              "      <td>3</td>\n",
              "      <td>1.653200</td>\n",
              "      <td>1.711704</td>\n",
              "      <td>0.269470</td>\n",
              "      <td>0.254861</td>\n",
              "      <td>0.269320</td>\n",
              "      <td>0.269470</td>\n",
              "    </tr>\n",
              "    <tr>\n",
              "      <td>4</td>\n",
              "      <td>1.520300</td>\n",
              "      <td>1.750084</td>\n",
              "      <td>0.268692</td>\n",
              "      <td>0.260199</td>\n",
              "      <td>0.268813</td>\n",
              "      <td>0.268692</td>\n",
              "    </tr>\n",
              "    <tr>\n",
              "      <td>5</td>\n",
              "      <td>1.412200</td>\n",
              "      <td>1.823520</td>\n",
              "      <td>0.246885</td>\n",
              "      <td>0.246769</td>\n",
              "      <td>0.255230</td>\n",
              "      <td>0.246885</td>\n",
              "    </tr>\n",
              "    <tr>\n",
              "      <td>6</td>\n",
              "      <td>1.324700</td>\n",
              "      <td>1.919289</td>\n",
              "      <td>0.255452</td>\n",
              "      <td>0.254158</td>\n",
              "      <td>0.257827</td>\n",
              "      <td>0.255452</td>\n",
              "    </tr>\n",
              "    <tr>\n",
              "      <td>7</td>\n",
              "      <td>1.244600</td>\n",
              "      <td>2.052538</td>\n",
              "      <td>0.262461</td>\n",
              "      <td>0.259766</td>\n",
              "      <td>0.267032</td>\n",
              "      <td>0.262461</td>\n",
              "    </tr>\n",
              "    <tr>\n",
              "      <td>8</td>\n",
              "      <td>1.070500</td>\n",
              "      <td>2.102381</td>\n",
              "      <td>0.251558</td>\n",
              "      <td>0.250456</td>\n",
              "      <td>0.256152</td>\n",
              "      <td>0.251558</td>\n",
              "    </tr>\n",
              "    <tr>\n",
              "      <td>9</td>\n",
              "      <td>1.010300</td>\n",
              "      <td>2.187356</td>\n",
              "      <td>0.259346</td>\n",
              "      <td>0.258459</td>\n",
              "      <td>0.262823</td>\n",
              "      <td>0.259346</td>\n",
              "    </tr>\n",
              "    <tr>\n",
              "      <td>10</td>\n",
              "      <td>0.950800</td>\n",
              "      <td>2.228478</td>\n",
              "      <td>0.268692</td>\n",
              "      <td>0.268064</td>\n",
              "      <td>0.273125</td>\n",
              "      <td>0.268692</td>\n",
              "    </tr>\n",
              "  </tbody>\n",
              "</table><p>"
            ],
            "text/plain": [
              "<IPython.core.display.HTML object>"
            ]
          },
          "metadata": {},
          "output_type": "display_data"
        },
        {
          "name": "stderr",
          "output_type": "stream",
          "text": [
            "/usr/local/lib/python3.11/dist-packages/sklearn/metrics/_classification.py:1565: UndefinedMetricWarning: Precision is ill-defined and being set to 0.0 in labels with no predicted samples. Use `zero_division` parameter to control this behavior.\n",
            "  _warn_prf(average, modifier, f\"{metric.capitalize()} is\", len(result))\n"
          ]
        },
        {
          "data": {
            "text/plain": [
              "TrainOutput(global_step=6400, training_loss=1.3391671943664551, metrics={'train_runtime': 2761.9327, 'train_samples_per_second': 37.075, 'train_steps_per_second': 2.317, 'total_flos': 0.0, 'train_loss': 1.3391671943664551, 'epoch': 10.0})"
            ]
          },
          "execution_count": 17,
          "metadata": {},
          "output_type": "execute_result"
        }
      ],
      "source": [
        "# === Train ===\n",
        "trainer.train()"
      ]
    },
    {
      "cell_type": "code",
      "execution_count": 18,
      "id": "577d5d8a",
      "metadata": {
        "colab": {
          "base_uri": "https://localhost:8080/",
          "height": 228
        },
        "id": "577d5d8a",
        "outputId": "2b97812a-2f78-4919-a3e9-3224ce94f578"
      },
      "outputs": [
        {
          "name": "stdout",
          "output_type": "stream",
          "text": [
            "\n",
            "Validation Set Evaluation:\n"
          ]
        },
        {
          "data": {
            "text/html": [],
            "text/plain": [
              "<IPython.core.display.HTML object>"
            ]
          },
          "metadata": {},
          "output_type": "display_data"
        },
        {
          "data": {
            "text/html": [
              "\n",
              "    <div>\n",
              "      \n",
              "      <progress value='41' max='41' style='width:300px; height:20px; vertical-align: middle;'></progress>\n",
              "      [41/41 00:07]\n",
              "    </div>\n",
              "    "
            ],
            "text/plain": [
              "<IPython.core.display.HTML object>"
            ]
          },
          "metadata": {},
          "output_type": "display_data"
        },
        {
          "data": {
            "text/plain": [
              "{'eval_loss': 1.686963438987732,\n",
              " 'eval_accuracy': 0.26947040498442365,\n",
              " 'eval_f1': 0.2381985443968493,\n",
              " 'eval_precision': 0.2806769278932326,\n",
              " 'eval_recall': 0.26947040498442365,\n",
              " 'eval_runtime': 7.7257,\n",
              " 'eval_samples_per_second': 166.198,\n",
              " 'eval_steps_per_second': 5.307,\n",
              " 'epoch': 10.0}"
            ]
          },
          "execution_count": 18,
          "metadata": {},
          "output_type": "execute_result"
        }
      ],
      "source": [
        "# === Evaluate ===\n",
        "print(\"\\nValidation Set Evaluation:\")\n",
        "outputs_val = trainer.predict(val_ds)\n",
        "trainer.evaluate(eval_dataset=val_ds)"
      ]
    },
    {
      "cell_type": "code",
      "execution_count": 19,
      "id": "989db3ad",
      "metadata": {
        "colab": {
          "base_uri": "https://localhost:8080/",
          "height": 607
        },
        "id": "989db3ad",
        "outputId": "c22d92d1-f854-4e77-9580-56e4120308dd"
      },
      "outputs": [
        {
          "data": {
            "image/png": "[encoded data removed]",
            "text/plain": [
              "<Figure size 800x600 with 2 Axes>"
            ]
          },
          "metadata": {},
          "output_type": "display_data"
        }
      ],
      "source": [
        "# Plot CM for validation set\n",
        "val_logits = outputs_val.predictions\n",
        "val_labels = outputs_val.label_ids\n",
        "val_preds = np.argmax(val_logits, axis=1)\n",
        "\n",
        "cm_val = confusion_matrix(val_labels, val_preds)\n",
        "label_names = train_df[['label_id', 'label']].drop_duplicates().sort_values('label_id')['label'].tolist()\n",
        "\n",
        "plt.figure(figsize=(8, 6))\n",
        "sns.heatmap(cm_val, annot=True, fmt='d', cmap='Blues',\n",
        "            xticklabels=label_names,\n",
        "            yticklabels=label_names)\n",
        "plt.title(\"Confusion Matrix (Validation Set)\", fontsize=14, fontweight='bold')\n",
        "plt.xlabel(\"Predicted Label\", fontsize=12)\n",
        "plt.ylabel(\"True Label\", fontsize=12)\n",
        "plt.tight_layout()\n",
        "plt.show()"
      ]
    },
    {
      "cell_type": "code",
      "execution_count": 20,
      "id": "bc7c368b",
      "metadata": {
        "colab": {
          "base_uri": "https://localhost:8080/",
          "height": 228
        },
        "id": "bc7c368b",
        "outputId": "1e5eb79c-1f22-4896-a0ba-ae30b8818883"
      },
      "outputs": [
        {
          "name": "stdout",
          "output_type": "stream",
          "text": [
            "\n",
            "Test Set Evaluation:\n"
          ]
        },
        {
          "data": {
            "text/html": [],
            "text/plain": [
              "<IPython.core.display.HTML object>"
            ]
          },
          "metadata": {},
          "output_type": "display_data"
        },
        {
          "data": {
            "text/html": [
              "\n",
              "    <div>\n",
              "      \n",
              "      <progress value='40' max='40' style='width:300px; height:20px; vertical-align: middle;'></progress>\n",
              "      [40/40 00:07]\n",
              "    </div>\n",
              "    "
            ],
            "text/plain": [
              "<IPython.core.display.HTML object>"
            ]
          },
          "metadata": {},
          "output_type": "display_data"
        },
        {
          "data": {
            "text/plain": [
              "{'eval_loss': 1.68952476978302,\n",
              " 'eval_accuracy': 0.2825572217837411,\n",
              " 'eval_f1': 0.2553061944083834,\n",
              " 'eval_precision': 0.3190000848974897,\n",
              " 'eval_recall': 0.2825572217837411,\n",
              " 'eval_runtime': 7.9162,\n",
              " 'eval_samples_per_second': 160.052,\n",
              " 'eval_steps_per_second': 5.053,\n",
              " 'epoch': 10.0}"
            ]
          },
          "execution_count": 20,
          "metadata": {},
          "output_type": "execute_result"
        }
      ],
      "source": [
        "# === Evaluate ===\n",
        "print(\"\\nTest Set Evaluation:\")\n",
        "outputs_test = trainer.predict(test_ds)\n",
        "trainer.evaluate(eval_dataset=test_ds)"
      ]
    },
    {
      "cell_type": "code",
      "execution_count": 21,
      "id": "58cc64b2",
      "metadata": {
        "colab": {
          "base_uri": "https://localhost:8080/",
          "height": 607
        },
        "id": "58cc64b2",
        "outputId": "282b933d-a3ab-417f-cf82-9f21cafa43d4"
      },
      "outputs": [
        {
          "data": {
            "image/png": "[encoded data removed]",
            "text/plain": [
              "<Figure size 800x600 with 2 Axes>"
            ]
          },
          "metadata": {},
          "output_type": "display_data"
        }
      ],
      "source": [
        "# Plot CM for test set\n",
        "test_logits = outputs_test.predictions\n",
        "test_labels = outputs_test.label_ids\n",
        "test_preds = np.argmax(test_logits, axis=1)\n",
        "\n",
        "cm_test = confusion_matrix(test_labels, test_preds)\n",
        "\n",
        "plt.figure(figsize=(8, 6))\n",
        "sns.heatmap(cm_test, annot=True, fmt='d', cmap='Blues',\n",
        "            xticklabels=label_names,\n",
        "            yticklabels=label_names)\n",
        "plt.title(\"Confusion Matrix (Test Set)\", fontsize=14, fontweight='bold')\n",
        "plt.xlabel(\"Predicted Label\", fontsize=12)\n",
        "plt.ylabel(\"True Label\", fontsize=12)\n",
        "plt.tight_layout()\n",
        "plt.show()"
      ]
    },
    {
      "cell_type": "markdown",
      "id": "3b82b6c8",
      "metadata": {
        "id": "3b82b6c8"
      },
      "source": [
        "---"
      ]
    }
  ],
  "metadata": {
    "accelerator": "GPU",
    "colab": {
      "gpuType": "T4",
      "provenance": []
    },
    "kernelspec": {
      "display_name": "Python 3",
      "name": "python3"
    },
    "language_info": {
      "codemirror_mode": {
        "name": "ipython",
        "version": 3
      },
      "file_extension": ".py",
      "mimetype": "text/x-python",
      "name": "python",
      "nbconvert_exporter": "python",
      "pygments_lexer": "ipython3",
      "version": "3.11.8"
    }
  },
  "nbformat": 4,
  "nbformat_minor": 5
}
