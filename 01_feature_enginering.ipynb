{
 "cells": [
  {
   "cell_type": "markdown",
   "id": "feec861b",
   "metadata": {},
   "source": [
    "# Feature Engineering"
   ]
  },
  {
   "cell_type": "code",
   "execution_count": 1,
   "id": "c1f6f762",
   "metadata": {
    "ExecuteTime": {
     "end_time": "2025-06-05T03:59:49.116515Z",
     "start_time": "2025-06-05T03:59:47.647936Z"
    }
   },
   "outputs": [],
   "source": [
    "import os\n",
    "import re\n",
    "import json\n",
    "import string\n",
    "\n",
    "import spacy\n",
    "import textstat\n",
    "import numpy as np\n",
    "import pandas as pd\n",
    "from datasets import load_dataset\n",
    "\n",
    "import nltk\n",
    "from nltk.corpus import stopwords\n",
    "from nltk.sentiment import SentimentIntensityAnalyzer\n",
    "from sklearn.feature_extraction.text import TfidfVectorizer"
   ]
  },
  {
   "cell_type": "code",
   "execution_count": 2,
   "id": "3257fdec",
   "metadata": {
    "ExecuteTime": {
     "end_time": "2025-06-05T03:59:49.127490Z",
     "start_time": "2025-06-05T03:59:49.124524Z"
    }
   },
   "outputs": [],
   "source": [
    "np.random.seed(691)"
   ]
  },
  {
   "cell_type": "code",
   "execution_count": 3,
   "id": "e3811be9",
   "metadata": {
    "ExecuteTime": {
     "end_time": "2025-06-05T03:59:49.856711Z",
     "start_time": "2025-06-05T03:59:49.487887Z"
    }
   },
   "outputs": [
    {
     "name": "stderr",
     "output_type": "stream",
     "text": [
      "[nltk_data] Downloading package stopwords to\n",
      "[nltk_data]     C:\\Users\\arabi\\AppData\\Roaming\\nltk_data...\n",
      "[nltk_data]   Package stopwords is already up-to-date!\n",
      "[nltk_data] Downloading package vader_lexicon to\n",
      "[nltk_data]     C:\\Users\\arabi\\AppData\\Roaming\\nltk_data...\n",
      "[nltk_data]   Package vader_lexicon is already up-to-date!\n"
     ]
    },
    {
     "data": {
      "text/plain": [
       "True"
      ]
     },
     "execution_count": 3,
     "metadata": {},
     "output_type": "execute_result"
    }
   ],
   "source": [
    "nltk.download('stopwords')\n",
    "nltk.download('vader_lexicon')"
   ]
  },
  {
   "cell_type": "code",
   "execution_count": 4,
   "id": "354f726f",
   "metadata": {},
   "outputs": [],
   "source": [
    "nlp = spacy.load(\"en_core_web_sm\")"
   ]
  },
  {
   "cell_type": "markdown",
   "id": "07995100",
   "metadata": {},
   "source": [
    "### Load Dataset\n",
    "\n",
    "- HuggingFace: https://huggingface.co/datasets/ucsbnlp/liar\n",
    "- Kaggle: https://www.kaggle.com/datasets/doanquanvietnamca/liar-dataset"
   ]
  },
  {
   "cell_type": "code",
   "execution_count": 5,
   "id": "103a64ed",
   "metadata": {
    "ExecuteTime": {
     "end_time": "2025-06-05T03:59:50.721834Z",
     "start_time": "2025-06-05T03:59:49.871725Z"
    }
   },
   "outputs": [],
   "source": [
    "# Loading dataset from 'HuggingFace'\n",
    "\n",
    "# dataset = load_dataset('ucsbnlp/liar', trust_remote_code=True)\n",
    "\n",
    "# train = dataset['train'].to_pandas()\n",
    "# valid = dataset['validation'].to_pandas()\n",
    "# test = dataset['test'].to_pandas()"
   ]
  },
  {
   "cell_type": "code",
   "execution_count": 6,
   "id": "37b8d548",
   "metadata": {},
   "outputs": [
    {
     "data": {
      "text/html": [
       "<div>\n",
       "<style scoped>\n",
       "    .dataframe tbody tr th:only-of-type {\n",
       "        vertical-align: middle;\n",
       "    }\n",
       "\n",
       "    .dataframe tbody tr th {\n",
       "        vertical-align: top;\n",
       "    }\n",
       "\n",
       "    .dataframe thead th {\n",
       "        text-align: right;\n",
       "    }\n",
       "</style>\n",
       "<table border=\"1\" class=\"dataframe\">\n",
       "  <thead>\n",
       "    <tr style=\"text-align: right;\">\n",
       "      <th></th>\n",
       "      <th>id</th>\n",
       "      <th>label</th>\n",
       "      <th>statement</th>\n",
       "      <th>subject</th>\n",
       "      <th>speaker</th>\n",
       "      <th>job_title</th>\n",
       "      <th>state_info</th>\n",
       "      <th>party_affiliation</th>\n",
       "      <th>barely_true_counts</th>\n",
       "      <th>false_counts</th>\n",
       "      <th>half_true_counts</th>\n",
       "      <th>mostly_true_counts</th>\n",
       "      <th>pants_on_fire_counts</th>\n",
       "      <th>context</th>\n",
       "    </tr>\n",
       "  </thead>\n",
       "  <tbody>\n",
       "    <tr>\n",
       "      <th>0</th>\n",
       "      <td>2635.json</td>\n",
       "      <td>false</td>\n",
       "      <td>Says the Annies List political group supports ...</td>\n",
       "      <td>abortion</td>\n",
       "      <td>dwayne-bohac</td>\n",
       "      <td>State representative</td>\n",
       "      <td>Texas</td>\n",
       "      <td>republican</td>\n",
       "      <td>0.0</td>\n",
       "      <td>1.0</td>\n",
       "      <td>0.0</td>\n",
       "      <td>0.0</td>\n",
       "      <td>0.0</td>\n",
       "      <td>a mailer</td>\n",
       "    </tr>\n",
       "    <tr>\n",
       "      <th>1</th>\n",
       "      <td>10540.json</td>\n",
       "      <td>half-true</td>\n",
       "      <td>When did the decline of coal start? It started...</td>\n",
       "      <td>energy,history,job-accomplishments</td>\n",
       "      <td>scott-surovell</td>\n",
       "      <td>State delegate</td>\n",
       "      <td>Virginia</td>\n",
       "      <td>democrat</td>\n",
       "      <td>0.0</td>\n",
       "      <td>0.0</td>\n",
       "      <td>1.0</td>\n",
       "      <td>1.0</td>\n",
       "      <td>0.0</td>\n",
       "      <td>a floor speech.</td>\n",
       "    </tr>\n",
       "  </tbody>\n",
       "</table>\n",
       "</div>"
      ],
      "text/plain": [
       "           id      label                                          statement  \\\n",
       "0   2635.json      false  Says the Annies List political group supports ...   \n",
       "1  10540.json  half-true  When did the decline of coal start? It started...   \n",
       "\n",
       "                              subject         speaker             job_title  \\\n",
       "0                            abortion    dwayne-bohac  State representative   \n",
       "1  energy,history,job-accomplishments  scott-surovell        State delegate   \n",
       "\n",
       "  state_info party_affiliation  barely_true_counts  false_counts  \\\n",
       "0      Texas        republican                 0.0           1.0   \n",
       "1   Virginia          democrat                 0.0           0.0   \n",
       "\n",
       "   half_true_counts  mostly_true_counts  pants_on_fire_counts          context  \n",
       "0               0.0                 0.0                   0.0         a mailer  \n",
       "1               1.0                 1.0                   0.0  a floor speech.  "
      ]
     },
     "execution_count": 6,
     "metadata": {},
     "output_type": "execute_result"
    }
   ],
   "source": [
    "# Loading dataset from 'Kaggle'\n",
    "\n",
    "columns = ['id', 'label', 'statement', 'subject', 'speaker', 'job_title', 'state_info', 'party_affiliation', 'barely_true_counts', 'false_counts', 'half_true_counts', 'mostly_true_counts', 'pants_on_fire_counts', 'context']\n",
    "\n",
    "train = pd.read_csv('data/raw/train.tsv', sep='\\t', header=None)\n",
    "validation = pd.read_csv('data/raw/valid.tsv', sep='\\t', header=None)\n",
    "test = pd.read_csv('data/raw/test.tsv', sep='\\t', header=None)\n",
    "\n",
    "train.columns = columns\n",
    "validation.columns = columns\n",
    "test.columns = columns\n",
    "\n",
    "train.head(2)"
   ]
  },
  {
   "cell_type": "code",
   "execution_count": 7,
   "id": "391e507d",
   "metadata": {
    "ExecuteTime": {
     "end_time": "2025-06-05T03:59:50.810040Z",
     "start_time": "2025-06-05T03:59:50.807167Z"
    }
   },
   "outputs": [
    {
     "name": "stdout",
     "output_type": "stream",
     "text": [
      "train.shape = (10240, 14)\n",
      "valid.shape = (1284, 14)\n",
      "test.shape = (1267, 14)\n"
     ]
    }
   ],
   "source": [
    "print(f'{train.shape = }')\n",
    "print(f'{validation.shape = }')\n",
    "print(f'{test.shape = }')"
   ]
  },
  {
   "cell_type": "markdown",
   "id": "11645189",
   "metadata": {},
   "source": [
    "### Removing Columns"
   ]
  },
  {
   "cell_type": "code",
   "execution_count": 8,
   "id": "a6540563",
   "metadata": {
    "ExecuteTime": {
     "end_time": "2025-06-05T03:59:50.944588Z",
     "start_time": "2025-06-05T03:59:50.941459Z"
    }
   },
   "outputs": [
    {
     "data": {
      "text/plain": [
       "Index(['id', 'label', 'statement', 'subject', 'speaker', 'job_title',\n",
       "       'state_info', 'party_affiliation', 'barely_true_counts', 'false_counts',\n",
       "       'half_true_counts', 'mostly_true_counts', 'pants_on_fire_counts',\n",
       "       'context'],\n",
       "      dtype='object')"
      ]
     },
     "execution_count": 8,
     "metadata": {},
     "output_type": "execute_result"
    }
   ],
   "source": [
    "train.columns"
   ]
  },
  {
   "cell_type": "code",
   "execution_count": 9,
   "id": "7e054929",
   "metadata": {
    "ExecuteTime": {
     "end_time": "2025-06-05T03:59:51.003763Z",
     "start_time": "2025-06-05T03:59:50.998765Z"
    }
   },
   "outputs": [
    {
     "name": "stdout",
     "output_type": "stream",
     "text": [
      "train.shape = (10240, 6)\n",
      "valid.shape = (1284, 6)\n",
      "test.shape = (1267, 6)\n"
     ]
    }
   ],
   "source": [
    "required_Columns = ['label', 'statement', 'subject', 'speaker', 'party_affiliation', 'context']\n",
    "\n",
    "train = train[required_Columns]\n",
    "validation = validation[required_Columns]\n",
    "test = test[required_Columns]\n",
    "\n",
    "print(f'{train.shape = }')\n",
    "print(f'{validation.shape = }')\n",
    "print(f'{test.shape = }')"
   ]
  },
  {
   "cell_type": "code",
   "execution_count": 10,
   "id": "3a134da0",
   "metadata": {
    "ExecuteTime": {
     "end_time": "2025-06-05T03:59:51.124144Z",
     "start_time": "2025-06-05T03:59:51.118779Z"
    }
   },
   "outputs": [
    {
     "data": {
      "text/html": [
       "<div>\n",
       "<style scoped>\n",
       "    .dataframe tbody tr th:only-of-type {\n",
       "        vertical-align: middle;\n",
       "    }\n",
       "\n",
       "    .dataframe tbody tr th {\n",
       "        vertical-align: top;\n",
       "    }\n",
       "\n",
       "    .dataframe thead th {\n",
       "        text-align: right;\n",
       "    }\n",
       "</style>\n",
       "<table border=\"1\" class=\"dataframe\">\n",
       "  <thead>\n",
       "    <tr style=\"text-align: right;\">\n",
       "      <th></th>\n",
       "      <th>label</th>\n",
       "      <th>statement</th>\n",
       "      <th>subject</th>\n",
       "      <th>speaker</th>\n",
       "      <th>party_affiliation</th>\n",
       "      <th>context</th>\n",
       "    </tr>\n",
       "  </thead>\n",
       "  <tbody>\n",
       "    <tr>\n",
       "      <th>0</th>\n",
       "      <td>false</td>\n",
       "      <td>Says the Annies List political group supports ...</td>\n",
       "      <td>abortion</td>\n",
       "      <td>dwayne-bohac</td>\n",
       "      <td>republican</td>\n",
       "      <td>a mailer</td>\n",
       "    </tr>\n",
       "    <tr>\n",
       "      <th>1</th>\n",
       "      <td>half-true</td>\n",
       "      <td>When did the decline of coal start? It started...</td>\n",
       "      <td>energy,history,job-accomplishments</td>\n",
       "      <td>scott-surovell</td>\n",
       "      <td>democrat</td>\n",
       "      <td>a floor speech.</td>\n",
       "    </tr>\n",
       "    <tr>\n",
       "      <th>2</th>\n",
       "      <td>mostly-true</td>\n",
       "      <td>Hillary Clinton agrees with John McCain \"by vo...</td>\n",
       "      <td>foreign-policy</td>\n",
       "      <td>barack-obama</td>\n",
       "      <td>democrat</td>\n",
       "      <td>Denver</td>\n",
       "    </tr>\n",
       "    <tr>\n",
       "      <th>3</th>\n",
       "      <td>false</td>\n",
       "      <td>Health care reform legislation is likely to ma...</td>\n",
       "      <td>health-care</td>\n",
       "      <td>blog-posting</td>\n",
       "      <td>none</td>\n",
       "      <td>a news release</td>\n",
       "    </tr>\n",
       "    <tr>\n",
       "      <th>4</th>\n",
       "      <td>half-true</td>\n",
       "      <td>The economic turnaround started at the end of ...</td>\n",
       "      <td>economy,jobs</td>\n",
       "      <td>charlie-crist</td>\n",
       "      <td>democrat</td>\n",
       "      <td>an interview on CNN</td>\n",
       "    </tr>\n",
       "  </tbody>\n",
       "</table>\n",
       "</div>"
      ],
      "text/plain": [
       "         label                                          statement  \\\n",
       "0        false  Says the Annies List political group supports ...   \n",
       "1    half-true  When did the decline of coal start? It started...   \n",
       "2  mostly-true  Hillary Clinton agrees with John McCain \"by vo...   \n",
       "3        false  Health care reform legislation is likely to ma...   \n",
       "4    half-true  The economic turnaround started at the end of ...   \n",
       "\n",
       "                              subject         speaker party_affiliation  \\\n",
       "0                            abortion    dwayne-bohac        republican   \n",
       "1  energy,history,job-accomplishments  scott-surovell          democrat   \n",
       "2                      foreign-policy    barack-obama          democrat   \n",
       "3                         health-care    blog-posting              none   \n",
       "4                        economy,jobs   charlie-crist          democrat   \n",
       "\n",
       "               context  \n",
       "0             a mailer  \n",
       "1      a floor speech.  \n",
       "2               Denver  \n",
       "3       a news release  \n",
       "4  an interview on CNN  "
      ]
     },
     "execution_count": 10,
     "metadata": {},
     "output_type": "execute_result"
    }
   ],
   "source": [
    "train.head()"
   ]
  },
  {
   "cell_type": "code",
   "execution_count": 11,
   "id": "01682409",
   "metadata": {},
   "outputs": [
    {
     "name": "stdout",
     "output_type": "stream",
     "text": [
      "<class 'pandas.core.frame.DataFrame'>\n",
      "RangeIndex: 10240 entries, 0 to 10239\n",
      "Data columns (total 6 columns):\n",
      " #   Column             Non-Null Count  Dtype \n",
      "---  ------             --------------  ----- \n",
      " 0   label              10240 non-null  object\n",
      " 1   statement          10240 non-null  object\n",
      " 2   subject            10238 non-null  object\n",
      " 3   speaker            10238 non-null  object\n",
      " 4   party_affiliation  10238 non-null  object\n",
      " 5   context            10138 non-null  object\n",
      "dtypes: object(6)\n",
      "memory usage: 5.1 MB\n"
     ]
    }
   ],
   "source": [
    "train.info(memory_usage='deep')"
   ]
  },
  {
   "cell_type": "markdown",
   "id": "68017381",
   "metadata": {},
   "source": [
    "### Fixing `N/A` values"
   ]
  },
  {
   "cell_type": "code",
   "execution_count": 12,
   "id": "458e6156",
   "metadata": {},
   "outputs": [
    {
     "name": "stdout",
     "output_type": "stream",
     "text": [
      "Null Value Counts:\n"
     ]
    },
    {
     "data": {
      "text/html": [
       "<div>\n",
       "<style scoped>\n",
       "    .dataframe tbody tr th:only-of-type {\n",
       "        vertical-align: middle;\n",
       "    }\n",
       "\n",
       "    .dataframe tbody tr th {\n",
       "        vertical-align: top;\n",
       "    }\n",
       "\n",
       "    .dataframe thead th {\n",
       "        text-align: right;\n",
       "    }\n",
       "</style>\n",
       "<table border=\"1\" class=\"dataframe\">\n",
       "  <thead>\n",
       "    <tr style=\"text-align: right;\">\n",
       "      <th></th>\n",
       "      <th>train</th>\n",
       "      <th>validation</th>\n",
       "      <th>test</th>\n",
       "    </tr>\n",
       "  </thead>\n",
       "  <tbody>\n",
       "    <tr>\n",
       "      <th>label</th>\n",
       "      <td>0</td>\n",
       "      <td>0</td>\n",
       "      <td>0</td>\n",
       "    </tr>\n",
       "    <tr>\n",
       "      <th>statement</th>\n",
       "      <td>0</td>\n",
       "      <td>0</td>\n",
       "      <td>0</td>\n",
       "    </tr>\n",
       "    <tr>\n",
       "      <th>subject</th>\n",
       "      <td>2</td>\n",
       "      <td>0</td>\n",
       "      <td>0</td>\n",
       "    </tr>\n",
       "    <tr>\n",
       "      <th>speaker</th>\n",
       "      <td>2</td>\n",
       "      <td>0</td>\n",
       "      <td>0</td>\n",
       "    </tr>\n",
       "    <tr>\n",
       "      <th>party_affiliation</th>\n",
       "      <td>2</td>\n",
       "      <td>0</td>\n",
       "      <td>0</td>\n",
       "    </tr>\n",
       "    <tr>\n",
       "      <th>context</th>\n",
       "      <td>102</td>\n",
       "      <td>12</td>\n",
       "      <td>17</td>\n",
       "    </tr>\n",
       "  </tbody>\n",
       "</table>\n",
       "</div>"
      ],
      "text/plain": [
       "                   train  validation  test\n",
       "label                  0           0     0\n",
       "statement              0           0     0\n",
       "subject                2           0     0\n",
       "speaker                2           0     0\n",
       "party_affiliation      2           0     0\n",
       "context              102          12    17"
      ]
     },
     "execution_count": 12,
     "metadata": {},
     "output_type": "execute_result"
    }
   ],
   "source": [
    "print(\"Null Value Counts:\")\n",
    "\n",
    "pd.DataFrame({\n",
    "    \"train\": train.isnull().sum(),\n",
    "    \"validation\": validation.isnull().sum(),\n",
    "    \"test\": test.isnull().sum()\n",
    "})"
   ]
  },
  {
   "cell_type": "code",
   "execution_count": 13,
   "id": "24318663",
   "metadata": {},
   "outputs": [
    {
     "name": "stdout",
     "output_type": "stream",
     "text": [
      "Null Value Counts:\n"
     ]
    },
    {
     "data": {
      "text/html": [
       "<div>\n",
       "<style scoped>\n",
       "    .dataframe tbody tr th:only-of-type {\n",
       "        vertical-align: middle;\n",
       "    }\n",
       "\n",
       "    .dataframe tbody tr th {\n",
       "        vertical-align: top;\n",
       "    }\n",
       "\n",
       "    .dataframe thead th {\n",
       "        text-align: right;\n",
       "    }\n",
       "</style>\n",
       "<table border=\"1\" class=\"dataframe\">\n",
       "  <thead>\n",
       "    <tr style=\"text-align: right;\">\n",
       "      <th></th>\n",
       "      <th>train</th>\n",
       "      <th>validation</th>\n",
       "      <th>test</th>\n",
       "    </tr>\n",
       "  </thead>\n",
       "  <tbody>\n",
       "    <tr>\n",
       "      <th>label</th>\n",
       "      <td>0</td>\n",
       "      <td>0</td>\n",
       "      <td>0</td>\n",
       "    </tr>\n",
       "    <tr>\n",
       "      <th>statement</th>\n",
       "      <td>0</td>\n",
       "      <td>0</td>\n",
       "      <td>0</td>\n",
       "    </tr>\n",
       "    <tr>\n",
       "      <th>subject</th>\n",
       "      <td>0</td>\n",
       "      <td>0</td>\n",
       "      <td>0</td>\n",
       "    </tr>\n",
       "    <tr>\n",
       "      <th>speaker</th>\n",
       "      <td>0</td>\n",
       "      <td>0</td>\n",
       "      <td>0</td>\n",
       "    </tr>\n",
       "    <tr>\n",
       "      <th>party_affiliation</th>\n",
       "      <td>0</td>\n",
       "      <td>0</td>\n",
       "      <td>0</td>\n",
       "    </tr>\n",
       "    <tr>\n",
       "      <th>context</th>\n",
       "      <td>0</td>\n",
       "      <td>0</td>\n",
       "      <td>0</td>\n",
       "    </tr>\n",
       "  </tbody>\n",
       "</table>\n",
       "</div>"
      ],
      "text/plain": [
       "                   train  validation  test\n",
       "label                  0           0     0\n",
       "statement              0           0     0\n",
       "subject                0           0     0\n",
       "speaker                0           0     0\n",
       "party_affiliation      0           0     0\n",
       "context                0           0     0"
      ]
     },
     "execution_count": 13,
     "metadata": {},
     "output_type": "execute_result"
    }
   ],
   "source": [
    "for df in [train, validation, test]:\n",
    "    df.fillna('unknown', inplace=True)\n",
    "\n",
    "print(\"Null Value Counts:\")\n",
    "\n",
    "pd.DataFrame({\n",
    "    \"train\": train.isnull().sum(),\n",
    "    \"validation\": validation.isnull().sum(),\n",
    "    \"test\": test.isnull().sum()\n",
    "})"
   ]
  },
  {
   "cell_type": "markdown",
   "id": "3923fd38",
   "metadata": {},
   "source": [
    "### Cleaning `statement` and adding features"
   ]
  },
  {
   "cell_type": "code",
   "execution_count": null,
   "id": "5dd5fd1a",
   "metadata": {
    "ExecuteTime": {
     "end_time": "2025-06-05T03:59:51.188759Z",
     "start_time": "2025-06-05T03:59:51.184756Z"
    }
   },
   "outputs": [],
   "source": [
    "stop_words = set(stopwords.words('english'))\n",
    "\n",
    "def clean_statement(text):\n",
    "    text = text.lower()\n",
    "    text.replace('-', ' ')\n",
    "    text = text.translate(str.maketrans('', '', string.punctuation))\n",
    "    text = re.sub(r'\\s+', ' ', text).strip()\n",
    "    tokens = text.split()\n",
    "    filtered = [word for word in tokens if word not in stop_words]\n",
    "    return ' '.join(filtered)\n",
    "\n",
    "for df in [train, validation, test]:\n",
    "    df['statement_clean'] = df['statement'].apply(clean_statement)"
   ]
  },
  {
   "cell_type": "code",
   "execution_count": 15,
   "id": "631bb776",
   "metadata": {
    "ExecuteTime": {
     "end_time": "2025-06-05T03:59:51.384955Z",
     "start_time": "2025-06-05T03:59:51.381142Z"
    }
   },
   "outputs": [
    {
     "name": "stdout",
     "output_type": "stream",
     "text": [
      "If you take the population growth here in Virginia, we are net zero on job creation since (Bob McDonnell) became governor.\n",
      "take population growth virginia net zero job creation since bob mcdonnell became governor\n",
      "\n",
      "Water rates in Manila, Philippines, were raised up to 845 percent when a subsidiary of the World Bank became a partial owner.\n",
      "water rates manila philippines raised 845 percent subsidiary world bank became partial owner\n",
      "\n",
      "African-American youth unemployment is 51 percent. Hispanic youth unemployment is 36 percent.\n",
      "africanamerican youth unemployment 51 percent hispanic youth unemployment 36 percent\n",
      "\n"
     ]
    }
   ],
   "source": [
    "for i in np.random.randint(0, 100, 3):\n",
    "    print(train['statement'][i])\n",
    "    print(train['statement_clean'][i], end='\\n\\n')"
   ]
  },
  {
   "cell_type": "markdown",
   "id": "bfb2861d",
   "metadata": {},
   "source": [
    "#### Readability Score"
   ]
  },
  {
   "cell_type": "code",
   "execution_count": null,
   "id": "0a5683aa",
   "metadata": {},
   "outputs": [],
   "source": [
    "def compute_readability(text):\n",
    "    return textstat.flesch_kincaid_grade(text)\n",
    "\n",
    "for df in [train, validation, test]:\n",
    "    df['readability_score'] = df['statement'].apply(compute_readability)"
   ]
  },
  {
   "cell_type": "markdown",
   "id": "932d9f59",
   "metadata": {},
   "source": [
    "#### Number of Named Entities + Entity Types Present"
   ]
  },
  {
   "cell_type": "code",
   "execution_count": null,
   "id": "9050c77c",
   "metadata": {},
   "outputs": [],
   "source": [
    "def ner_features(text):\n",
    "    doc = nlp(text)\n",
    "    num_entities = len(doc.ents)\n",
    "    entity_types = len(set([ent.label_ for ent in doc.ents]))\n",
    "    return num_entities, entity_types\n",
    "\n",
    "for df in [train, validation, test]:\n",
    "    df[['num_named_entities', 'entity_types_present']] = df['statement'].apply(\n",
    "        lambda x: pd.Series(ner_features(x))\n",
    "    )"
   ]
  },
  {
   "cell_type": "markdown",
   "id": "da9cfd23",
   "metadata": {},
   "source": [
    "#### Has Citation Words"
   ]
  },
  {
   "cell_type": "code",
   "execution_count": null,
   "id": "a0c6e8cf",
   "metadata": {},
   "outputs": [],
   "source": [
    "citation_phrases = [\n",
    "    \"according to\", \"reported by\", \"study shows\", \"research shows\", \"as per\",\n",
    "    \"sources say\", \"claims that\", \"according\", \"accordingto\"\n",
    "]\n",
    "\n",
    "def has_citation(text):\n",
    "    text_lower = text.lower()\n",
    "    return int(any(phrase in text_lower for phrase in citation_phrases))\n",
    "\n",
    "for df in [train, validation, test]:\n",
    "    df['has_citation_words'] = df['statement'].apply(has_citation)"
   ]
  },
  {
   "cell_type": "markdown",
   "id": "cdc6b451",
   "metadata": {},
   "source": [
    "#### Sentiment Analysis"
   ]
  },
  {
   "cell_type": "code",
   "execution_count": null,
   "id": "3ec36068",
   "metadata": {
    "ExecuteTime": {
     "end_time": "2025-06-05T03:59:51.405953Z",
     "start_time": "2025-06-05T03:59:51.397486Z"
    }
   },
   "outputs": [],
   "source": [
    "sia = SentimentIntensityAnalyzer()\n",
    "\n",
    "def get_sentiment_score(text):\n",
    "    return sia.polarity_scores(text)['compound']\n",
    "\n",
    "for df in [train, validation, test]:\n",
    "    df['sentiment_score'] = df['statement_clean'].apply(get_sentiment_score)"
   ]
  },
  {
   "cell_type": "markdown",
   "id": "50486386",
   "metadata": {},
   "source": [
    "#### TF-IDF Score Sum"
   ]
  },
  {
   "cell_type": "code",
   "execution_count": null,
   "id": "73721eeb",
   "metadata": {
    "ExecuteTime": {
     "end_time": "2025-06-05T03:59:52.276012Z",
     "start_time": "2025-06-05T03:59:52.269775Z"
    }
   },
   "outputs": [],
   "source": [
    "# Fit TF-IDF on train['statement']\n",
    "tfidf_vectorizer = TfidfVectorizer()\n",
    "tfidf_train = tfidf_vectorizer.fit_transform(train['statement_clean'])\n",
    "\n",
    "# Function to compute TF-IDF sum\n",
    "def tfidf_sum(row_vector):\n",
    "    return row_vector.sum()\n",
    "\n",
    "# Compute for train\n",
    "train['tfidf_score_sum'] = [tfidf_sum(tfidf_train[i]) for i in range(tfidf_train.shape[0])]\n",
    "\n",
    "# Now apply same vectorizer to val/test\n",
    "tfidf_valid = tfidf_vectorizer.transform(validation['statement_clean'])\n",
    "validation['tfidf_score_sum'] = [tfidf_sum(tfidf_valid[i]) for i in range(tfidf_valid.shape[0])]\n",
    "\n",
    "tfidf_test = tfidf_vectorizer.transform(test['statement_clean'])\n",
    "test['tfidf_score_sum'] = [tfidf_sum(tfidf_test[i]) for i in range(tfidf_test.shape[0])]"
   ]
  },
  {
   "cell_type": "markdown",
   "id": "e563d9ce",
   "metadata": {},
   "source": [
    "#### Polarity Shift Words Count"
   ]
  },
  {
   "cell_type": "code",
   "execution_count": null,
   "id": "d115d9f0",
   "metadata": {},
   "outputs": [],
   "source": [
    "polarity_shift_words = [\"however\", \"but\", \"despite\", \"although\", \"yet\", \"though\", \"still\", \"nevertheless\"]\n",
    "\n",
    "def polarity_shift_count(text):\n",
    "    tokens = text.split()\n",
    "    return sum(1 for token in tokens if token in polarity_shift_words)\n",
    "\n",
    "for df in [train, validation, test]:\n",
    "    df['polarity_shift_words_count'] = df['statement_clean'].apply(polarity_shift_count)"
   ]
  },
  {
   "cell_type": "markdown",
   "id": "d1241d4f",
   "metadata": {},
   "source": [
    "#### Uncertainty Words Count"
   ]
  },
  {
   "cell_type": "code",
   "execution_count": null,
   "id": "d4b0413b",
   "metadata": {},
   "outputs": [],
   "source": [
    "uncertainty_words = [\"might\", \"could\", \"possibly\", \"unclear\", \"may\", \"suggests\", \"apparently\", \"potentially\"]\n",
    "\n",
    "def uncertainty_count(text):\n",
    "    tokens = text.split()\n",
    "    return sum(1 for token in tokens if token in uncertainty_words)\n",
    "\n",
    "for df in [train, validation, test]:\n",
    "    df['uncertainty_words_count'] = df['statement_clean'].apply(uncertainty_count)"
   ]
  },
  {
   "cell_type": "markdown",
   "id": "f26fb2fe",
   "metadata": {},
   "source": [
    "#### Negation Words Count"
   ]
  },
  {
   "cell_type": "code",
   "execution_count": null,
   "id": "210466bf",
   "metadata": {},
   "outputs": [],
   "source": [
    "negation_words = [\"not\", \"never\", \"no\", \"none\", \"nobody\", \"nothing\", \"nowhere\", \"neither\", \"nor\", \"cannot\"]\n",
    "\n",
    "def negation_count(text):\n",
    "    tokens = text.split()\n",
    "    return sum(1 for token in tokens if token in negation_words)\n",
    "\n",
    "for df in [train, validation, test]:\n",
    "    df['negation_words_count'] = df['statement_clean'].apply(negation_count)"
   ]
  },
  {
   "cell_type": "markdown",
   "id": "a42d0117",
   "metadata": {},
   "source": [
    "#### Removing `statement` and renaming `statement_clean` to `statement`"
   ]
  },
  {
   "cell_type": "code",
   "execution_count": null,
   "id": "704bb3dc",
   "metadata": {},
   "outputs": [],
   "source": [
    "for df in [train, validation, test]:\n",
    "    df.drop(columns=['statement'], inplace=True)\n",
    "    df.rename(columns={'statement_clean': 'statement'}, inplace=True)"
   ]
  },
  {
   "cell_type": "markdown",
   "id": "83cda707",
   "metadata": {},
   "source": [
    "### Converting other column text to lowercase"
   ]
  },
  {
   "cell_type": "code",
   "execution_count": null,
   "id": "1a1d43e7",
   "metadata": {
    "ExecuteTime": {
     "end_time": "2025-06-05T03:59:52.380298Z",
     "start_time": "2025-06-05T03:59:52.365292Z"
    }
   },
   "outputs": [],
   "source": [
    "for col in train.select_dtypes(include='object').columns:\n",
    "    if col in ['label', 'statement']:\n",
    "        continue\n",
    "    train[col] = train[col].str.lower()\n",
    "    validation[col] = validation[col].str.lower()\n",
    "    test[col] = test[col].str.lower()"
   ]
  },
  {
   "cell_type": "markdown",
   "id": "9c302fd3",
   "metadata": {},
   "source": [
    "### Adding `subject_count`"
   ]
  },
  {
   "cell_type": "code",
   "execution_count": null,
   "id": "87052823",
   "metadata": {},
   "outputs": [],
   "source": [
    "for df in [train, validation, test]:\n",
    "    df['subject_count'] = df['subject'].apply(lambda x: len(str(x).split(',')))"
   ]
  },
  {
   "cell_type": "markdown",
   "id": "08ffcce4",
   "metadata": {},
   "source": [
    "### Adding `label_id` column"
   ]
  },
  {
   "cell_type": "code",
   "execution_count": null,
   "id": "df459239",
   "metadata": {},
   "outputs": [],
   "source": [
    "label_to_int = json.load(open('utils/lable_mapping.json', 'rb'))\n",
    "\n",
    "for df in [train, validation, test]:\n",
    "    df['label_id'] = df['label'].map(label_to_int)"
   ]
  },
  {
   "cell_type": "markdown",
   "id": "4be7e137",
   "metadata": {},
   "source": [
    "### Rearranging Columns"
   ]
  },
  {
   "cell_type": "code",
   "execution_count": null,
   "id": "dbb0238c",
   "metadata": {},
   "outputs": [],
   "source": [
    "final_columns = [\n",
    "    'statement',\n",
    "    'subject',\n",
    "    'speaker',\n",
    "    'party_affiliation',\n",
    "    'context',\n",
    "    'subject_count',\n",
    "    'readability_score',\n",
    "    'num_named_entities',\n",
    "    'entity_types_present',\n",
    "    'has_citation_words',\n",
    "    'polarity_shift_words_count',\n",
    "    'uncertainty_words_count',\n",
    "    'negation_words_count',\n",
    "    'tfidf_score_sum',\n",
    "    'sentiment_score',\n",
    "    'label',\n",
    "    'label_id'\n",
    "]\n",
    "\n",
    "train = train[final_columns]\n",
    "validation = validation[final_columns]\n",
    "test = test[final_columns]"
   ]
  },
  {
   "cell_type": "code",
   "execution_count": 29,
   "id": "7ddb7547",
   "metadata": {},
   "outputs": [
    {
     "data": {
      "text/html": [
       "<div>\n",
       "<style scoped>\n",
       "    .dataframe tbody tr th:only-of-type {\n",
       "        vertical-align: middle;\n",
       "    }\n",
       "\n",
       "    .dataframe tbody tr th {\n",
       "        vertical-align: top;\n",
       "    }\n",
       "\n",
       "    .dataframe thead th {\n",
       "        text-align: right;\n",
       "    }\n",
       "</style>\n",
       "<table border=\"1\" class=\"dataframe\">\n",
       "  <thead>\n",
       "    <tr style=\"text-align: right;\">\n",
       "      <th></th>\n",
       "      <th>statement</th>\n",
       "      <th>subject</th>\n",
       "      <th>speaker</th>\n",
       "      <th>party_affiliation</th>\n",
       "      <th>context</th>\n",
       "      <th>subject_count</th>\n",
       "      <th>readability_score</th>\n",
       "      <th>num_named_entities</th>\n",
       "      <th>entity_types_present</th>\n",
       "      <th>has_citation_words</th>\n",
       "      <th>polarity_shift_words_count</th>\n",
       "      <th>uncertainty_words_count</th>\n",
       "      <th>negation_words_count</th>\n",
       "      <th>tfidf_score_sum</th>\n",
       "      <th>sentiment_score</th>\n",
       "      <th>label</th>\n",
       "      <th>label_id</th>\n",
       "    </tr>\n",
       "  </thead>\n",
       "  <tbody>\n",
       "    <tr>\n",
       "      <th>0</th>\n",
       "      <td>says annies list political group supports thir...</td>\n",
       "      <td>abortion</td>\n",
       "      <td>dwayne-bohac</td>\n",
       "      <td>republican</td>\n",
       "      <td>a mailer</td>\n",
       "      <td>1</td>\n",
       "      <td>9.081818</td>\n",
       "      <td>1</td>\n",
       "      <td>1</td>\n",
       "      <td>0</td>\n",
       "      <td>0</td>\n",
       "      <td>0</td>\n",
       "      <td>0</td>\n",
       "      <td>2.886169</td>\n",
       "      <td>0.2500</td>\n",
       "      <td>false</td>\n",
       "      <td>1</td>\n",
       "    </tr>\n",
       "    <tr>\n",
       "      <th>1</th>\n",
       "      <td>decline coal start started natural gas took st...</td>\n",
       "      <td>energy,history,job-accomplishments</td>\n",
       "      <td>scott-surovell</td>\n",
       "      <td>democrat</td>\n",
       "      <td>a floor speech.</td>\n",
       "      <td>3</td>\n",
       "      <td>7.773333</td>\n",
       "      <td>1</td>\n",
       "      <td>1</td>\n",
       "      <td>0</td>\n",
       "      <td>0</td>\n",
       "      <td>0</td>\n",
       "      <td>0</td>\n",
       "      <td>3.305099</td>\n",
       "      <td>0.3612</td>\n",
       "      <td>half-true</td>\n",
       "      <td>3</td>\n",
       "    </tr>\n",
       "    <tr>\n",
       "      <th>2</th>\n",
       "      <td>hillary clinton agrees john mccain voting give...</td>\n",
       "      <td>foreign-policy</td>\n",
       "      <td>barack-obama</td>\n",
       "      <td>democrat</td>\n",
       "      <td>denver</td>\n",
       "      <td>1</td>\n",
       "      <td>9.209474</td>\n",
       "      <td>4</td>\n",
       "      <td>2</td>\n",
       "      <td>0</td>\n",
       "      <td>0</td>\n",
       "      <td>0</td>\n",
       "      <td>0</td>\n",
       "      <td>3.394159</td>\n",
       "      <td>0.3182</td>\n",
       "      <td>mostly-true</td>\n",
       "      <td>4</td>\n",
       "    </tr>\n",
       "    <tr>\n",
       "      <th>3</th>\n",
       "      <td>health care reform legislation likely mandate ...</td>\n",
       "      <td>health-care</td>\n",
       "      <td>blog-posting</td>\n",
       "      <td>none</td>\n",
       "      <td>a news release</td>\n",
       "      <td>1</td>\n",
       "      <td>8.756667</td>\n",
       "      <td>0</td>\n",
       "      <td>0</td>\n",
       "      <td>0</td>\n",
       "      <td>0</td>\n",
       "      <td>0</td>\n",
       "      <td>0</td>\n",
       "      <td>3.089276</td>\n",
       "      <td>0.7579</td>\n",
       "      <td>false</td>\n",
       "      <td>1</td>\n",
       "    </tr>\n",
       "    <tr>\n",
       "      <th>4</th>\n",
       "      <td>economic turnaround started end term</td>\n",
       "      <td>economy,jobs</td>\n",
       "      <td>charlie-crist</td>\n",
       "      <td>democrat</td>\n",
       "      <td>an interview on cnn</td>\n",
       "      <td>2</td>\n",
       "      <td>7.190000</td>\n",
       "      <td>0</td>\n",
       "      <td>0</td>\n",
       "      <td>0</td>\n",
       "      <td>0</td>\n",
       "      <td>0</td>\n",
       "      <td>0</td>\n",
       "      <td>2.207947</td>\n",
       "      <td>0.0000</td>\n",
       "      <td>half-true</td>\n",
       "      <td>3</td>\n",
       "    </tr>\n",
       "  </tbody>\n",
       "</table>\n",
       "</div>"
      ],
      "text/plain": [
       "                                           statement  \\\n",
       "0  says annies list political group supports thir...   \n",
       "1  decline coal start started natural gas took st...   \n",
       "2  hillary clinton agrees john mccain voting give...   \n",
       "3  health care reform legislation likely mandate ...   \n",
       "4               economic turnaround started end term   \n",
       "\n",
       "                              subject         speaker party_affiliation  \\\n",
       "0                            abortion    dwayne-bohac        republican   \n",
       "1  energy,history,job-accomplishments  scott-surovell          democrat   \n",
       "2                      foreign-policy    barack-obama          democrat   \n",
       "3                         health-care    blog-posting              none   \n",
       "4                        economy,jobs   charlie-crist          democrat   \n",
       "\n",
       "               context  subject_count  readability_score  num_named_entities  \\\n",
       "0             a mailer              1           9.081818                   1   \n",
       "1      a floor speech.              3           7.773333                   1   \n",
       "2               denver              1           9.209474                   4   \n",
       "3       a news release              1           8.756667                   0   \n",
       "4  an interview on cnn              2           7.190000                   0   \n",
       "\n",
       "   entity_types_present  has_citation_words  polarity_shift_words_count  \\\n",
       "0                     1                   0                           0   \n",
       "1                     1                   0                           0   \n",
       "2                     2                   0                           0   \n",
       "3                     0                   0                           0   \n",
       "4                     0                   0                           0   \n",
       "\n",
       "   uncertainty_words_count  negation_words_count  tfidf_score_sum  \\\n",
       "0                        0                     0         2.886169   \n",
       "1                        0                     0         3.305099   \n",
       "2                        0                     0         3.394159   \n",
       "3                        0                     0         3.089276   \n",
       "4                        0                     0         2.207947   \n",
       "\n",
       "   sentiment_score        label  label_id  \n",
       "0           0.2500        false         1  \n",
       "1           0.3612    half-true         3  \n",
       "2           0.3182  mostly-true         4  \n",
       "3           0.7579        false         1  \n",
       "4           0.0000    half-true         3  "
      ]
     },
     "execution_count": 29,
     "metadata": {},
     "output_type": "execute_result"
    }
   ],
   "source": [
    "train.head()"
   ]
  },
  {
   "cell_type": "code",
   "execution_count": 30,
   "id": "bee37b48",
   "metadata": {},
   "outputs": [
    {
     "name": "stdout",
     "output_type": "stream",
     "text": [
      "<class 'pandas.core.frame.DataFrame'>\n",
      "RangeIndex: 10240 entries, 0 to 10239\n",
      "Data columns (total 17 columns):\n",
      " #   Column                      Non-Null Count  Dtype  \n",
      "---  ------                      --------------  -----  \n",
      " 0   statement                   10240 non-null  object \n",
      " 1   subject                     10240 non-null  object \n",
      " 2   speaker                     10240 non-null  object \n",
      " 3   party_affiliation           10240 non-null  object \n",
      " 4   context                     10240 non-null  object \n",
      " 5   subject_count               10240 non-null  int64  \n",
      " 6   readability_score           10240 non-null  float64\n",
      " 7   num_named_entities          10240 non-null  int64  \n",
      " 8   entity_types_present        10240 non-null  int64  \n",
      " 9   has_citation_words          10240 non-null  int64  \n",
      " 10  polarity_shift_words_count  10240 non-null  int64  \n",
      " 11  uncertainty_words_count     10240 non-null  int64  \n",
      " 12  negation_words_count        10240 non-null  int64  \n",
      " 13  tfidf_score_sum             10240 non-null  float64\n",
      " 14  sentiment_score             10240 non-null  float64\n",
      " 15  label                       10240 non-null  object \n",
      " 16  label_id                    10240 non-null  int64  \n",
      "dtypes: float64(3), int64(8), object(6)\n",
      "memory usage: 5.7 MB\n"
     ]
    }
   ],
   "source": [
    "train.info(memory_usage='deep')"
   ]
  },
  {
   "cell_type": "markdown",
   "id": "e9a808b1",
   "metadata": {},
   "source": [
    "### Saving Data"
   ]
  },
  {
   "cell_type": "code",
   "execution_count": null,
   "id": "f87573ac",
   "metadata": {
    "ExecuteTime": {
     "end_time": "2025-06-05T03:59:52.615520Z",
     "start_time": "2025-06-05T03:59:52.580177Z"
    }
   },
   "outputs": [],
   "source": [
    "os.makedirs('data', exist_ok=True)\n",
    "\n",
    "train.to_csv('data/train.csv', index=False)\n",
    "validation.to_csv('data/validation.csv', index=False)\n",
    "test.to_csv('data/test.csv', index=False)"
   ]
  },
  {
   "cell_type": "markdown",
   "id": "7c1663f8",
   "metadata": {},
   "source": [
    "---"
   ]
  }
 ],
 "metadata": {
  "kernelspec": {
   "display_name": "pytorch",
   "language": "python",
   "name": "python3"
  },
  "language_info": {
   "codemirror_mode": {
    "name": "ipython",
    "version": 3
   },
   "file_extension": ".py",
   "mimetype": "text/x-python",
   "name": "python",
   "nbconvert_exporter": "python",
   "pygments_lexer": "ipython3",
   "version": "3.11.8"
  }
 },
 "nbformat": 4,
 "nbformat_minor": 5
}
